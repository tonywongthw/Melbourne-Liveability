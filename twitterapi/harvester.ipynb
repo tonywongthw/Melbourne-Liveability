{
 "cells": [
  {
   "cell_type": "code",
   "execution_count": 3,
   "metadata": {},
   "outputs": [],
   "source": [
    "import requests\n",
    "import os\n",
    "import json\n",
    "import time\n",
    "\n",
    "# To set your environment variables in your terminal run the following line:\n",
    "# export 'BEARER_TOKEN'='<your_bearer_token>'\n",
    "#bearer_token = os.environ.get(\"BEARER_TOKEN\")\n",
    "bearer_token = 'Put TOKEN HERE'\n",
    "search_url = \"https://api.twitter.com/1.1/search/tweets.json\"\n",
    "\n",
    "#Setting to test the script and not waste queries\n",
    "TESTING = True\n",
    "\n",
    "# Helper Function definitions\n",
    "def generate_query(keywords: list[str], ignore: list[str]):\n",
    "    # Creates a query that searches for any keywords given around melbourne in a 25km radius for the past 7 days\n",
    "    return {'q': f'({\" OR \".join(keywords)}) {\" \".join([\"-\"+i for i in ignore])} -is:retweet lang:en','geocode': ' -37.840935,144.946457,25km', 'count': str(10 if TESTING else 100) }\n",
    "\n",
    "def bearer_oauth(r):\n",
    "    \"\"\"\n",
    "    Method required by bearer token authentication.\n",
    "    \"\"\"\n",
    "\n",
    "    r.headers[\"Authorization\"] = f\"Bearer {bearer_token}\"\n",
    "    r.headers[\"User-Agent\"] = \"v2RecentSearchPython\"\n",
    "    return r\n",
    "\n",
    "def connect_to_endpoint(url, params):\n",
    "    response = requests.get(url, auth=bearer_oauth, params=params)\n",
    "    #print(response.status_code)\n",
    "    if response.status_code != 200:\n",
    "        raise Exception(response.status_code, response.text)\n",
    "    return response.json()\n",
    "\n"
   ]
  },
  {
   "cell_type": "code",
   "execution_count": 4,
   "metadata": {},
   "outputs": [
    {
     "name": "stdout",
     "output_type": "stream",
     "text": [
      "Wrote 3 Pages\n"
     ]
    }
   ],
   "source": [
    "# Driver Code\n",
    "\n",
    "# Read search keywords and blacklisted words\n",
    "# The location of where this can be changed\n",
    "# depending on environment\n",
    "keywords = ['covid', 'corona', 'virus']\n",
    "# E.g:\n",
    "# with open('keywords.txt') as file:\n",
    "#    keywords = [line.rstrip() for line in file]\n",
    "\n",
    "blacklist = ['beer']\n",
    "\n",
    "# Get custom query\n",
    "query_params = generate_query(keywords, blacklist)\n",
    "\n",
    "# Request tweets from twitter api and store data\n",
    "\n",
    "json_response = connect_to_endpoint(search_url, query_params)\n",
    "with open(\"search_results2.json\", 'a') as file:\n",
    "    file.write('[')\n",
    "\n",
    "    i = 0\n",
    "    while(json_response):\n",
    "        # Take data and store it\n",
    "        # Edit here to change how it is stored\n",
    "        json_str = json.dumps(json_response['statuses'], indent = 4)\n",
    "        file.write(json_str.strip('[]'))\n",
    "\n",
    "        ''' E.G. sample code to post to database\n",
    "        for tweet in json_response['statuses']:\n",
    "            res = requests.put('http://couchdb.url.here', tweet)\n",
    "            if res.status_code != 201:\n",
    "                raise Exception(res.status_code, res.text)\n",
    "        '''\n",
    "        if TESTING:\n",
    "            if i == 3:\n",
    "                break\n",
    "        i += 1\n",
    "\n",
    "        # Get next page of tweets\n",
    "        next_url = json_response['search_metadata'][\"next_results\"]\n",
    "        if not next_url:\n",
    "            break\n",
    "        file.write(',') # Add a comma for the next page\n",
    "        while True:\n",
    "            try:\n",
    "                json_response = connect_to_endpoint(search_url+next_url, None)\n",
    "                break\n",
    "            except:\n",
    "                time.sleep(300) # wait if api is overloaded\n",
    "\n",
    "\n",
    "    # Finally close json\n",
    "    file.write(']')\n",
    "\n",
    "    print('Wrote ' + str(i) + ' Pages')\n"
   ]
  }
 ],
 "metadata": {
  "interpreter": {
   "hash": "cc7436e339fb98a79d349a4b39e7546d0317772cabf469fe9b68837ca1e48e7d"
  },
  "kernelspec": {
   "display_name": "Python 3.9.7 ('base')",
   "language": "python",
   "name": "python3"
  },
  "language_info": {
   "codemirror_mode": {
    "name": "ipython",
    "version": 3
   },
   "file_extension": ".py",
   "mimetype": "text/x-python",
   "name": "python",
   "nbconvert_exporter": "python",
   "pygments_lexer": "ipython3",
   "version": "3.9.7"
  },
  "orig_nbformat": 4
 },
 "nbformat": 4,
 "nbformat_minor": 2
}
